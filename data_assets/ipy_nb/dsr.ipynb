{
  "cells": [
    {
      "cell_type": "markdown",
      "metadata": {},
      "source": [
        "# Institutional Water Treatment (IWT) Digital site report (DSR) Overview\n",
        "\n",
        "## Project Overview\n",
        "\n",
        "The **IWT DSR 2.0.xlsx** is a powerful, modular Excel-based template designed for the Institutional Water Treatment Program at the Illinois Sustainable Technology Center (University of Illinois at Urbana-Champaign). This DSR streamlines the collection, analysis, and reporting of water quality data for industrial systems like boilers, cooling towers, and potable water systems. This Jupyter notebook showcases the DSR’s capabilities and modular design.\n",
        "\n",
        "**Key Functionalities:**\n",
        "- The DSR’s functionality in managing water treatment data.\n",
        "- Modular structure, enabling flexibility and scalability.\n",
        "- Data processing via a extraction.\n",
        "- Ready for automation (e.g., ETL pipelines, dashboards).\n",
        "\n",
        "**File Details:**\n",
        "- **Filename**: IWT DSR 2.0.xlsx\n",
        "- **Sheets**: Report, Short Report, Data Input, Reference, Control Charts, Chem On Site, Chem List, Recommendations\n",
        "- **Sample Data**: Facility (Earth), Date (2025-09-02), Systems: Cold Dist, Hot Dist, Boiler, Cooling Tower, Softener \n",
        "\n",
        "**Note**: The DSR Excel file is not included in the public repository to protect sensitive data. Contact me for a demo with anonymized data.\n",
        "\n",
        "This notebook is designed to be viewed on GitHub at `data_assets/ipy_nb/dsr.ipynb`. Run cells locally to explore further."
      ]
    },
    {
      "cell_type": "markdown",
      "metadata": {},
      "source": [
        "## DSR Capabilities\n",
        "\n",
        "The IWT DSR is a comprehensive tool for managing water treatment workflows. Below are its key capabilities, tailored to support field chemists, facility managers, and analysts.\n",
        "\n",
        "### 1. Structured Data Collection\n",
        "- **Purpose**: The DSR provides a standardized template for entering water quality metrics (e.g., conductivity, pH, alkalinity) across systems like potable water, boilers, and cooling towers.\n",
        "- **Sheets Involved**:\n",
        " - **Data Input**: Core sheet for entering raw data (e.g., meter readings, chemical levels).\n",
        " - Example: Metrics for 'Test Sink Cold Dist' include conductivity, pH, chloride, and chlorine levels.\n",
        "- **Benefit**: Ensures consistent data capture, reducing errors in field reports due to sloppy writting or not catching data entered in the wrong place.\n",
        "\n",
        "### 2. Reference and Validation\n",
        "- **Purpose**: Defines acceptable ranges for metrics to validate system performance.\n",
        "- **Sheets Involved**:\n",
        " - **Reference**: Lists min/max values for metrics (e.g., Free Chlorine: 0.5–4 ppm for Cold Dist).\n",
        " - **Control Charts**: Tracks metrics against control limits for quality assurance.\n",
        "- **Benefit**: Enables quick identification of deviations (e.g., high chloride in condensing boilers).\n",
        "\n",
        "### 3. Reporting\n",
        "- **Purpose**: Generates formatted reports for stakeholders, facility staff, or engineers.\n",
        "- **Sheets Involved**:\n",
        " - **Report**: Full site visitation report with system data and comments.\n",
        " - **Short Report**: Condensed summary with key metrics and ranges.\n",
        "- **Benefit**: Simplifies communication with facility staff (e.g., comments and data on same page).\n",
        "\n",
        "### 4. Chemical Management\n",
        "- **Purpose**: Tracks on-site chemicals and their dosages.\n",
        "- **Sheets Involved**:\n",
        " - **Chem On Site**: Lists chemicals by system (e.g., Sodium Sulfite for boilers).\n",
        " - **Chem List**: Comprehensive catalog with item numbers, prices, and dosages.\n",
        "- **Benefit**: Supports inventory management and cost estimation.\n",
        "\n",
        "### 5. Actionable Recommendations\n",
        "- **Purpose**: Provides system-specific actions based on metric deviations.\n",
        "- **Sheet Involved**:\n",
        " - **Recommendations**: Suggests actions (e.g., 'Increase surface blowdown' for high conductivity).\n",
        "- **Benefit**: Guides field adjustments to optimize system performance.\n",
        "\n",
        "**DSR Visualization**:\n",
        "Below are screenshots of the DSR in action (e.g., Excel template or related dashboard):\n",
        "![Example 1](data_assets/example1.PNG)\n",
        "![Example 2](data_assets/example2.PNG)"
      ]
    },
    {
      "cell_type": "markdown",
      "metadata": {},
      "source": [
        "## Modular Nature of the DSR\n",
        "\n",
        "The DSR’s modular design makes it highly adaptable and scalable:\n",
        "\n",
        "- **Independent Sheets**: Each sheet serves a distinct function (data input, reference, reporting, etc.), allowing users to update or use only relevant modules.\n",
        "- **System Flexibility**: Supports multiple system types (e.g., Boiler, Cooling Tower, Potable) with customizable metrics.\n",
        "- **Extensibility**: New systems or chemicals can be added to sheets like 'Data Input' or 'Chem List' without restructuring the template.\n",
        "- **Scalability**: Suitable for single facilities or multi-site operations, with potential for database integration.\n",
        "- **Automation Potential**: The structured format is ideal for automation (e.g., parsing into SQLite, generating dashboards)."
      ]
    },
    {
      "cell_type": "markdown",
      "metadata": {},
      "source": [
        "## Data Flow in the DSR\n",
        "\n",
        "The DSR facilitates a clear workflow for water treatment data management:\n",
        "1. **Input**: Field chemists enter raw data in 'Data Input' (e.g., pH, chlorine levels).\n",
        "2. **Validation**: Compare against 'Reference' and 'Control Charts' to identify issues.\n",
        "3. **Reporting**: Generate 'Report' or 'Short Report'.\n",
        "4. **Chemical Tracking**: Update 'Chem On Site' and 'Chem List' for inventory.\n",
        "5. **Recommendations**: Apply rules in 'Recommendations' for corrective actions.\n",
        "\n",
        "This flow ensures data integrity and actionable insights."
      ]
    },
    {
      "cell_type": "markdown",
      "metadata": {},
      "source": [
        "## Extracting Data with Jupyter Notebook\n",
        "\n",
        "To demonstrate data processing potential, here’s how to extract data from the DSR using Python and pandas. This is a simplified example; full automation could involve parsing all sheets into a database.\n",
        "\n",
        "**Example: Load and Visualize Chemical Prices**"
      ]
    },
    {
      "cell_type": "code",
      "execution_count": null,
      "metadata": {},
      "outputs": [],
      "source": [
        "import pandas as pd\n",
        "import matplotlib.pyplot as plt\n",
        "\n",
        "# Load the Excel file\n",
        "file_path = 'IWT DSR 2.0.xlsx'\n",
        "xls = pd.ExcelFile(file_path)\n",
        "\n",
        "# Extract 'Chem List' sheet\n",
        "chem_list_df = pd.read_excel(xls, sheet_name='Chem List', header=None)\n",
        "chem_list_df = chem_list_df.dropna(how='all', axis=1).dropna(how='all')\n",
        "\n",
        "# Clean and select Description and Price columns\n",
        "chem_list_df_clean = chem_list_df.iloc[:, [0, 2]].dropna()\n",
        "chem_list_df_clean.columns = ['Description', 'Price']\n",
        "chem_list_df_clean['Price'] = pd.to_numeric(chem_list_df_clean['Price'], errors='coerce')\n",
        "chem_list_df_clean = chem_list_df_clean.dropna(subset=['Price'])\n",
        "\n",
        "# Plot top 10 chemical prices\n",
        "plt.figure(figsize=(12, 6))\n",
        "plt.barh(chem_list_df_clean['Description'][:10], chem_list_df_clean['Price'][:10], color='#1E4D8C')\n",
        "plt.xlabel('Price (LB/GAL)')\n",
        "plt.title('Top 10 Chemical Prices from IWT DSR Chem List')\n",
        "plt.tight_layout()\n",
        "plt.show()"
      ]
    },
    {
      "cell_type": "markdown",
      "metadata": {},
      "source": [
        "## Conclusion\n",
        "\n",
        "The IWT DSR 2.0 is a robust, modular tool for managing water treatment data, offering structured data entry, validation, reporting, chemical tracking, and actionable recommendations. Its design supports scalability and automation, making it ideal for integration into modern data pipelines.\n",
        "\n",
        "**Skills Demonstrated**:\n",
        "- **Data Analysis**: Understanding complex Excel structures and extracting insights.\n",
        "- **Data Processing**: Cleaning and visualizing data with pandas and matplotlib.\n",
        "- **System Design**: Recognizing modular, scalable data systems.\n",
        "- **Potential Extensions**: Automating DSR processing with Python, databases, or dashboards (e.g., Dash, as in `Water_line/app.py`).\n",
        "\n",
        "The "Water_line" project notebook can to be viewed on GitHub at `https://github.com/Markopolo2023/Water_line/blob/main/jupyter_nb/IWT_Dashboard.ipynb`."
      ]
    }
  ],
  "metadata": {
    "kernelspec": {
      "display_name": "Python 3 (ipykernel)",
      "language": "python",
      "name": "python3"
    },
    "language_info": {
      "codemirror_mode": {
        "name": "ipython",
        "version": 3
      },
      "file_extension": ".py",
      "mimetype": "text/x-python",
      "name": "python",
      "nbconvert_exporter": "python",
      "pygments_lexer": "ipython3",
      "version": "3.12.0"
    }
  },
  "nbformat": 4,
  "nbformat_minor": 4
}
